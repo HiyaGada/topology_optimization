{
 "cells": [
  {
   "cell_type": "code",
   "execution_count": 64,
   "metadata": {},
   "outputs": [],
   "source": [
    "import numpy as np"
   ]
  },
  {
   "cell_type": "code",
   "execution_count": 65,
   "metadata": {},
   "outputs": [],
   "source": [
    "#Number of elements in the vector x\n",
    "n=10\n",
    "#Small element for differentiation\n",
    "delta=0.0001\n",
    "#Gradient descent step\n",
    "eta=0.01\n",
    "#Gradient descent stops when dg is small\n",
    "small= 10 ** (-5)\n",
    "\n",
    "s=2000 #iteration number\n",
    "\n",
    "#The code calculates max not min!"
   ]
  },
  {
   "cell_type": "code",
   "execution_count": 66,
   "metadata": {},
   "outputs": [],
   "source": [
    "#Define various functions\n",
    "\n",
    "def f(x):\n",
    "    fout=0\n",
    "    for i in range(n):\n",
    "        fout += x[i] ** 2\n",
    "        fout = np.sqrt(fout)\n",
    "    return fout\n",
    "\n",
    "def A(p):\n",
    "    Ap = np.array([[p[i] * p[j] for j in range(n)] for i in range(n)])\n",
    "    Ap += np.eye(n)\n",
    "    return Ap\n",
    "\n",
    "def b(p):\n",
    "    return np.ones([n])\n",
    "\n",
    "#def inv(m):\n",
    "    #a, b = m.shape\n",
    "    #if a != b:\n",
    "        #raise ValueError(\"Only square matrices are invertible.\")\n",
    "\n",
    "    #i = np.eye(a, a)\n",
    "    #return np.linalg.lstsq(m, i)[0]"
   ]
  },
  {
   "cell_type": "code",
   "execution_count": 69,
   "metadata": {},
   "outputs": [],
   "source": [
    "#Initialising p\n",
    "p = np.random.rand(n) * 5\n",
    "\n",
    "Ap = np.zeros([n, n])"
   ]
  },
  {
   "cell_type": "markdown",
   "metadata": {},
   "source": [
    "This is the differential equation to be solved for each p(i):\n",
    "\n",
    "$\\delta g = \\delta_xf(x_p)\\cdot A^{-1}(p)(\\delta_pb- \\delta_pA \\cdot x_p)$\n",
    "\n",
    "Gradient descent on p:\n",
    "\n",
    "$p^{(i+1)}= p^{(i)} + \\delta_p g (p^{(i)}) * \\eta$"
   ]
  },
  {
   "cell_type": "code",
   "execution_count": 70,
   "metadata": {},
   "outputs": [
    {
     "name": "stdout",
     "output_type": "stream",
     "text": [
      "1\n",
      "\n",
      "\n",
      "x:\n",
      "[1. 1. 1. 1. 1. 1. 1. 1. 1. 1.]\n",
      "\n",
      "\n",
      "p:\n",
      "[1.46144116 1.75020463 0.01311442 3.8217169  4.21463069 1.36495846\n",
      " 2.15955042 2.9486244  0.80496628 3.52088016]\n"
     ]
    }
   ],
   "source": [
    "#Gradient Descent\n",
    "\n",
    "norm=1\n",
    "\n",
    "while norm > small and s > 0:\n",
    "    Ap = A(p)\n",
    "    bp = b(p)\n",
    "    Ainv = np.linalg.inv(Ap)\n",
    "    x= Ainv @ bp \n",
    "    fxp= f(x)\n",
    "    #print(Ap)\n",
    "\n",
    "    #Differential of matrices\n",
    "\n",
    "    delA = np.array([A(p + np.array([0 if i != j else delta for j in range(n)])) - Ap for i in range(n)])\n",
    "    delA = delA / delta\n",
    "\n",
    "    delB = np.zeros([n, n])\n",
    "\n",
    "    delF = np.array([f(x + np.array([0 if i != j else delta for j in range(n)])) - fxp for i in range(n)])\n",
    "    delF = delF / delta\n",
    "\n",
    "    q1= delA @ x\n",
    "    q2= delB - q1\n",
    "    q= delF @ Ainv\n",
    "\n",
    "    delG= np.matmul(q,q2)\n",
    "\n",
    "    norm = np.linalg.norm(delG)\n",
    "\n",
    "    if s % 10 == 0 :\n",
    "        print(norm)\n",
    "\n",
    "    p = p + (delG * eta)\n",
    "\n",
    "    s-=1\n",
    "\n",
    "print(norm)\n",
    "print(\"\\n\")\n",
    "\n",
    "print(\"x:\")\n",
    "print(x)\n",
    "print(\"\\n\")\n",
    "\n",
    "print(\"p:\")\n",
    "print(p)\n"
   ]
  },
  {
   "cell_type": "code",
   "execution_count": null,
   "metadata": {},
   "outputs": [],
   "source": []
  },
  {
   "cell_type": "code",
   "execution_count": null,
   "metadata": {},
   "outputs": [],
   "source": []
  }
 ],
 "metadata": {
  "kernelspec": {
   "display_name": "Python 3",
   "language": "python",
   "name": "python3"
  },
  "language_info": {
   "codemirror_mode": {
    "name": "ipython",
    "version": 3
   },
   "file_extension": ".py",
   "mimetype": "text/x-python",
   "name": "python",
   "nbconvert_exporter": "python",
   "pygments_lexer": "ipython3",
   "version": "3.7.7"
  }
 },
 "nbformat": 4,
 "nbformat_minor": 4
}
